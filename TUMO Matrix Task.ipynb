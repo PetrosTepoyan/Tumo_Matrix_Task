{
 "cells": [
  {
   "cell_type": "markdown",
   "metadata": {},
   "source": [
    "We are going to use Dynamic Programming. The idea for solving this is the following: We first build a table $m$, which is going to have length and height equal to the number of the elements. Then, we are going to take $i$, the rows, as a starting point, and $j$, the columns, as an ending point for our subsequences. So, we are going to find the find minimum of some subsequence, and check if that minimum is greater than or equal to the length of that subsequence. For example, our elements are [1,3,5]. We are taking the subsequence (1,2), meaning from the second to the third element. The minimum of that subsequence is 3, which is greater than 2; hence, we can draw there a square. In that fashion we are going to populate our table. As a way to increase performance, we can apply this stratefy: Since in the right upper corner of the table there will be small values, we can use early stopping, when the minimum element for a diagonal is less than the lenght of a subsequence (I know I may have explained it in a vague way, but try to read the code, please😄). Below there are all the versions of the algorithm, from the slowest to the fastest. "
   ]
  },
  {
   "cell_type": "code",
   "execution_count": 67,
   "metadata": {},
   "outputs": [],
   "source": [
    "l = list(range(1000))"
   ]
  },
  {
   "cell_type": "code",
   "execution_count": 68,
   "metadata": {},
   "outputs": [
    {
     "name": "stdout",
     "output_type": "stream",
     "text": [
      "380 ms ± 8 ms per loop (mean ± std. dev. of 7 runs, 1 loop each)\n"
     ]
    }
   ],
   "source": [
    "def solution_0(A):\n",
    "    # write your code in Python 3.6\n",
    "    n = len(A)\n",
    "    m = [[0 for i in range(n)] for j in range(n)]\n",
    "    for i in range(0, n):\n",
    "        m[i][i] = A[i]\n",
    "    \n",
    "    coord = ((i, i + d) for d in range(1, n) for i in range(0, n - d))\n",
    "    max_ = 1\n",
    "    for k in coord: \n",
    "        i = k[0]\n",
    "        j = k[1]\n",
    "        d = j - i + 1\n",
    "        m[i][j] = min(m[i][j - 1], m[i + 1][j])\n",
    "        min_ = min(m[i][j], d)\n",
    "        if min_ > max_:\n",
    "            max_ = min_\n",
    "    return max_\n",
    "    pass\n",
    "\n",
    "%timeit solution_0(l)"
   ]
  },
  {
   "cell_type": "code",
   "execution_count": 69,
   "metadata": {},
   "outputs": [
    {
     "name": "stdout",
     "output_type": "stream",
     "text": [
      "500\n",
      "337 ms ± 8.25 ms per loop (mean ± std. dev. of 7 runs, 1 loop each)\n"
     ]
    }
   ],
   "source": [
    "def solution_1(A):\n",
    "    # write your code in Python 3.6\n",
    "    n = len(A)\n",
    "    m = [[0 for I in range(n)] for j in range(n)]\n",
    "\n",
    "    for i in range(n):\n",
    "        m[i][i] = A[i]\n",
    "\n",
    "    for d in range(1, n): \n",
    "        for i in range(0, n - d):\n",
    "            j = i + d\n",
    "            m[i][j] = min(m[i][j - 1], m[i + 1][j])\n",
    "\n",
    "    max_ = 1\n",
    "    for d in range(1, n): \n",
    "        for i in range(0, n - d):\n",
    "            j = i + d\n",
    "            min_ = min(m[i][j], d + 1)\n",
    "            m[i][j] = min_\n",
    "            if min_ > max_:\n",
    "                max_ = min_\n",
    "    return max_\n",
    "    pass\n",
    "\n",
    "print(solution_1(l))\n",
    "%timeit solution_1(l)"
   ]
  },
  {
   "cell_type": "code",
   "execution_count": 70,
   "metadata": {},
   "outputs": [
    {
     "name": "stdout",
     "output_type": "stream",
     "text": [
      "500\n",
      "236 ms ± 7.05 ms per loop (mean ± std. dev. of 7 runs, 1 loop each)\n"
     ]
    }
   ],
   "source": [
    "def solution_2(A):\n",
    "    \n",
    "    n = len(A)\n",
    "    m = [[0 for I in range(n)] for j in range(n)]\n",
    "\n",
    "    for i in range(n):\n",
    "        m[i][i] = A[i]\n",
    "\n",
    "    max_ = 1    \n",
    "    for d in range(1, n): \n",
    "        max_for_d = 1\n",
    "        \n",
    "        for i in range(0, n - d):\n",
    "            j = i + d\n",
    "            pivot = min(m[i][j - 1], m[i + 1][j])\n",
    "            m[i][j] = pivot\n",
    "            min_ = min(pivot, d + 1)\n",
    "            if min_ > max_:\n",
    "                max_ = min_\n",
    "            \n",
    "            if pivot > d:\n",
    "                max_for_d = pivot\n",
    "                \n",
    "        if max_for_d < d + 1:\n",
    "            break\n",
    "            \n",
    "    return max_\n",
    "    pass\n",
    "\n",
    "print(solution_2(l))\n",
    "%timeit solution_2(l)"
   ]
  },
  {
   "cell_type": "code",
   "execution_count": 77,
   "metadata": {},
   "outputs": [
    {
     "name": "stdout",
     "output_type": "stream",
     "text": [
      "500.0\n",
      "83.9 ms ± 1.62 ms per loop (mean ± std. dev. of 7 runs, 10 loops each)\n"
     ]
    }
   ],
   "source": [
    "import numpy as np\n",
    "from numba import jit\n",
    "\n",
    "l = np.array(range(1000))\n",
    "@jit(nopython=True)\n",
    "def solution_numpy_numba(A):\n",
    "    n = len(A)\n",
    "    m = np.zeros((n,n))\n",
    "    np.fill_diagonal(m, A)\n",
    "    max_ = 1    \n",
    "    for d in range(1, n): \n",
    "        max_for_d = 1\n",
    "        \n",
    "        for i in range(0, n - d):\n",
    "            j = i + d\n",
    "            pivot = min([m[i, j - 1], m[i + 1, j]])\n",
    "            m[i, j] = pivot\n",
    "            min_ = min(pivot, d + 1)\n",
    "            if min_ > max_:\n",
    "                max_ = min_\n",
    "            \n",
    "            if pivot > d:\n",
    "                max_for_d = pivot\n",
    "                \n",
    "        if max_for_d < d + 1:\n",
    "            break\n",
    "            \n",
    "    return max_\n",
    "    pass\n",
    "\n",
    "print(solution_numpy_numba(l))\n",
    "%timeit solution_numpy_numba(l)"
   ]
  },
  {
   "cell_type": "code",
   "execution_count": 78,
   "metadata": {},
   "outputs": [
    {
     "name": "stdout",
     "output_type": "stream",
     "text": [
      "Elapsed (with compilation) = 0.09623312950134277\n",
      "Elapsed (after compilation) = 0.0951070785522461\n"
     ]
    }
   ],
   "source": [
    "import time\n",
    "# DO NOT REPORT THIS... COMPILATION TIME IS INCLUDED IN THE EXECUTION TIME!\n",
    "start = time.time()\n",
    "solution_numpy_numba(l)\n",
    "end = time.time()\n",
    "print(\"Elapsed (with compilation) = %s\" % (end - start))\n",
    "\n",
    "# NOW THE FUNCTION IS COMPILED, RE-TIME IT EXECUTING FROM CACHE\n",
    "start = time.time()\n",
    "solution_numpy_numba(l)\n",
    "end = time.time()\n",
    "print(\"Elapsed (after compilation) = %s\" % (end - start))"
   ]
  },
  {
   "cell_type": "code",
   "execution_count": null,
   "metadata": {},
   "outputs": [],
   "source": []
  }
 ],
 "metadata": {
  "kernelspec": {
   "display_name": "Python 3",
   "language": "python",
   "name": "python3"
  },
  "language_info": {
   "codemirror_mode": {
    "name": "ipython",
    "version": 3
   },
   "file_extension": ".py",
   "mimetype": "text/x-python",
   "name": "python",
   "nbconvert_exporter": "python",
   "pygments_lexer": "ipython3",
   "version": "3.8.3"
  }
 },
 "nbformat": 4,
 "nbformat_minor": 4
}
